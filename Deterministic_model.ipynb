{
 "cells": [
  {
   "cell_type": "code",
   "execution_count": 93,
   "id": "dd03b38d",
   "metadata": {},
   "outputs": [],
   "source": [
    "# loading necessary library\n",
    "import matplotlib.pyplot as plt\n",
    "import networkx as nx\n",
    "from networkx.drawing.nx_pydot import graphviz_layout\n",
    "import math\n",
    "import numpy as np\n",
    "import random"
   ]
  },
  {
   "cell_type": "code",
   "execution_count": 94,
   "id": "b7fe6c40-971e-450d-8ca7-d3ad88ee4b55",
   "metadata": {},
   "outputs": [],
   "source": [
    "# Creating dataset\n",
    "random.seed(0)\n",
    "list_1 = ['investment period 1', 'investment period 2', 'investment period 3', 'investment period 4', 'investment period 5', 'investment period 6', \n",
    "          'investment period 7', 'investment period 8', 'investment period 9', 'investment period 10']\n",
    "# list_1 = ['investment period 1', 'investment period 2', 'investment period 3', 'investment period 4', 'investment period 5']\n",
    "list_2 = []\n",
    "for i in range(1):\n",
    "    list_2.append(str(i + 1))  \n",
    "list_3 = ['s', 'b', 'mf']\n",
    "\n",
    "import random\n",
    "def original():\n",
    "    dictionary = {}\n",
    "    for element_1 in list_1:\n",
    "        dictionary[element_1] = {}\n",
    "        for element_2 in list_2:\n",
    "            dictionary[element_1][element_2]={}\n",
    "            for element_3 in list_3:\n",
    "                dictionary[element_1][element_2][element_3] = round(random.uniform(1, 1.3),2)\n",
    "                \n",
    "    return dictionary"
   ]
  },
  {
   "cell_type": "code",
   "execution_count": 95,
   "id": "36fc6344-fd9d-4380-9502-7589fa1e949e",
   "metadata": {},
   "outputs": [],
   "source": [
    "# calling method to create library\n",
    "returns = original()"
   ]
  },
  {
   "cell_type": "code",
   "execution_count": 96,
   "id": "2f875520-e480-42d4-8775-d729a4b5412d",
   "metadata": {},
   "outputs": [
    {
     "name": "stdout",
     "output_type": "stream",
     "text": [
      "Dataset\n",
      "=======\n",
      "investment period 1\n",
      "1  :  {'s': 1.25, 'b': 1.23, 'mf': 1.13}\n",
      "investment period 2\n",
      "1  :  {'s': 1.08, 'b': 1.15, 'mf': 1.12}\n",
      "investment period 3\n",
      "1  :  {'s': 1.24, 'b': 1.09, 'mf': 1.14}\n",
      "investment period 4\n",
      "1  :  {'s': 1.18, 'b': 1.27, 'mf': 1.15}\n",
      "investment period 5\n",
      "1  :  {'s': 1.08, 'b': 1.23, 'mf': 1.19}\n",
      "investment period 6\n",
      "1  :  {'s': 1.08, 'b': 1.27, 'mf': 1.29}\n",
      "investment period 7\n",
      "1  :  {'s': 1.24, 'b': 1.27, 'mf': 1.09}\n",
      "investment period 8\n",
      "1  :  {'s': 1.22, 'b': 1.27, 'mf': 1.21}\n",
      "investment period 9\n",
      "1  :  {'s': 1.14, 'b': 1.03, 'mf': 1.13}\n",
      "investment period 10\n",
      "1  :  {'s': 1.18, 'b': 1.27, 'mf': 1.29}\n"
     ]
    }
   ],
   "source": [
    "# print the dataset\n",
    "print('Dataset')\n",
    "print('=======')\n",
    "for key, value in returns.items():\n",
    "    print(key)\n",
    "    for k,v in returns[key].items():\n",
    "        \n",
    "        print(k, ' : ', v)"
   ]
  },
  {
   "cell_type": "code",
   "execution_count": 97,
   "id": "e7114f95",
   "metadata": {},
   "outputs": [
    {
     "name": "stdout",
     "output_type": "stream",
     "text": [
      "{'1': 1.0}\n"
     ]
    }
   ],
   "source": [
    "def original():\n",
    "    dictionary = {}\n",
    "    for element_1 in list_2:\n",
    "        dictionary[element_1] = 1/len(returns['investment period 1'].keys())\n",
    "    return dictionary\n",
    "\n",
    "probs = original()\n",
    "print(probs)\n",
    "\n",
    "# probs = {'1' : 0.20, '2' : 0.20, '3': 0.20, '4': .20, '5': .20}\n",
    "pos = {}\n",
    "\n",
    "# for n investment periods change numEpochs to n\n",
    "numEpochs = 5\n",
    "\n",
    "# This variable helps to verify number of nodes in the messy situation (for higher numEpochs)\n",
    "tree_calc = numEpochs\n",
    "\n",
    "# It's the distance from one investment period to other in the graph (value is not crucial)\n",
    "horizDist = 12\n",
    "\n",
    "# used to place different scenarios at different location\n",
    "slopes = [-2,-1,0,1,2]"
   ]
  },
  {
   "cell_type": "code",
   "execution_count": 98,
   "id": "bde3c483",
   "metadata": {},
   "outputs": [
    {
     "data": {
      "image/png": "[encoded data removed]",
      "text/plain": [
       "<Figure size 640x480 with 1 Axes>"
      ]
     },
     "metadata": {},
     "output_type": "display_data"
    }
   ],
   "source": [
    "# root is \"\", t is for , j is for the investment period\n",
    "def buildGraph(G, root, t, j):\n",
    "    newX = pos[root][0] + horizDist\n",
    "    yBase = pos[root][1]\n",
    "    \n",
    "    index = 0\n",
    "    for i in returns['investment period ' + str(j)].keys():\n",
    "        # print('H/L: ',i)\n",
    "        newNode = root + i\n",
    "        # print('newnode:',newNode)\n",
    "        G.add_edge(root, newNode, p = probs[i], returns = returns['investment period ' + str(j)][i])\n",
    "        G.add_node(newNode)\n",
    "        pos[newNode] = [newX, yBase + horizDist*slopes[index]]\n",
    "        # pos[newNode] = [newX, yBase + horizDist*next(alternator)]\n",
    "        if t < numEpochs - 1:\n",
    "            buildGraph(G, newNode, t + 1, j + 1)\n",
    "        index += 1\n",
    "\n",
    "G = nx.DiGraph()\n",
    "G.add_node(\"\")\n",
    "pos[\"\"] = [0, 0]\n",
    "buildGraph(G, \"\", 0, 1)\n",
    "\n",
    "edge_labels = nx.get_edge_attributes(G,'returns')\n",
    "plt.figure()\n",
    "nx.draw_networkx(G,pos,node_size=500, font_size = 8)\n",
    "nx.draw_networkx_edge_labels(G,pos,edge_labels, font_size = 8)\n",
    "plt.axis('off')\n",
    "plt.show()"
   ]
  },
  {
   "cell_type": "code",
   "execution_count": 99,
   "id": "a4fa0ed9",
   "metadata": {},
   "outputs": [
    {
     "data": {
      "text/plain": [
       "6"
      ]
     },
     "execution_count": 99,
     "metadata": {},
     "output_type": "execute_result"
    }
   ],
   "source": [
    "# number of nodes including \"\" at the very beginning\n",
    "len(list(G.nodes))"
   ]
  },
  {
   "cell_type": "code",
   "execution_count": 100,
   "id": "b468ca0c",
   "metadata": {},
   "outputs": [
    {
     "name": "stdout",
     "output_type": "stream",
     "text": [
      "6.0\n"
     ]
    }
   ],
   "source": [
    "# to verify number of nodes mathematically\n",
    "import math\n",
    "sum = 1\n",
    "numEpochs = tree_calc\n",
    "for i in range(numEpochs):\n",
    "    sum = sum + math.pow(len(returns['investment period 1'].keys()), numEpochs)\n",
    "    numEpochs -= 1\n",
    "print(sum)"
   ]
  },
  {
   "cell_type": "markdown",
   "id": "1202220b",
   "metadata": {},
   "source": [
    "# Gurobi Code"
   ]
  },
  {
   "cell_type": "code",
   "execution_count": 101,
   "id": "46875144",
   "metadata": {},
   "outputs": [],
   "source": [
    "import gurobipy as gp\n",
    "from gurobipy import GRB\n",
    "import itertools\n",
    "\n",
    "def getPredNode(G, node):\n",
    "    return [pred for pred in G.predecessors(node)][0]\n",
    "\n",
    "def getReturn(G, node, i):\n",
    "    value = ''\n",
    "    # j = 'time horizon ' + str(j)\n",
    "    for u, v, data in G.in_edges(node, data = True):\n",
    "        value = data['returns'][i]\n",
    "        \n",
    "    return value\n",
    "\n",
    "investments = ['s', 'b', 'mf']\n",
    "\n",
    "## currently, G.out_degree(x) == 5 since we have 5 scenarios exiting each node\n",
    "branchNodes = [x for x in G.nodes() if G.out_degree(x)==1 and G.in_degree(x)==1]\n",
    "\n",
    "decisionNodes = branchNodes + ['']\n",
    "leafNodes = [x for x in G.nodes() if G.out_degree(x)==0 and G.in_degree(x)==1]\n",
    "p = 1/len(leafNodes)\n",
    "\n",
    "    \n",
    "try:\n",
    "    m = gp.Model(\"Financial Planning - Decision Tree Model\")\n",
    "    # m.setParam('OutputFlag', 0)\n",
    "    \n",
    "    x = m.addVars(itertools.product(investments, decisionNodes), name = \"invest\")\n",
    " \n",
    "    y = m.addVars(leafNodes, name = \"excess\")\n",
    "    w = m.addVars(leafNodes, name = \"shortage\")\n",
    "    \n",
    "    m.setObjective(p * gp.quicksum([y[l] - 4*w[l] for l in leafNodes]), GRB.MAXIMIZE)\n",
    "\n",
    "    m.addConstr(x.sum('*',\"\") <= 30, \"investAmountAtNode['0']\")\n",
    "    m.addConstrs((x.sum('*', n) == gp.quicksum([getReturn(G, n, i)*x[i, getPredNode(G,n)] for i in investments]) for n in branchNodes), \"investAmountAtNode\")\n",
    "    m.addConstrs((200 == gp.quicksum([getReturn(G, l, i)*x[i, getPredNode(G,l)] for i in investments]) - y[l] + w[l] for l in leafNodes), \"final\")\n",
    "    \n",
    "    m.write('financial_plan_with_10_investment_periods.lp')\n",
    "    \n",
    "except gp.GurobiError as e:\n",
    "    print('Error code ' + str(e.errno) + ': ' + str(e))\n",
    "except AttributeError:\n",
    "    print('Encountered an attribute error')"
   ]
  },
  {
   "cell_type": "code",
   "execution_count": 102,
   "id": "3cb93d3f",
   "metadata": {},
   "outputs": [],
   "source": [
    "# !cat financial_plan_with_10_investment_periods.lp"
   ]
  },
  {
   "cell_type": "code",
   "execution_count": 103,
   "id": "f8d5b670",
   "metadata": {},
   "outputs": [
    {
     "name": "stdout",
     "output_type": "stream",
     "text": [
      "Gurobi Optimizer version 9.5.2 build v9.5.2rc0 (mac64[rosetta2])\n",
      "Thread count: 8 physical cores, 8 logical processors, using up to 8 threads\n",
      "Optimize a model with 6 rows, 17 columns and 32 nonzeros\n",
      "Model fingerprint: 0xf1cb9196\n",
      "Coefficient statistics:\n",
      "  Matrix range     [1e+00, 1e+00]\n",
      "  Objective range  [1e+00, 4e+00]\n",
      "  Bounds range     [0e+00, 0e+00]\n",
      "  RHS range        [3e+01, 2e+02]\n",
      "Presolve time: 0.01s\n",
      "Presolved: 6 rows, 17 columns, 32 nonzeros\n",
      "\n",
      "Iteration    Objective       Primal Inf.    Dual Inf.      Time\n",
      "       0    1.0000000e+30   8.130081e+29   1.000000e+00      0s\n",
      "       3   -4.6586681e+02   0.000000e+00   0.000000e+00      0s\n",
      "\n",
      "Solved in 3 iterations and 0.02 seconds (0.00 work units)\n",
      "Optimal objective -4.658668100e+02\n",
      "invest[s,1] 0\n",
      "invest[s,11] 43.125\n",
      "invest[s,111] 0\n",
      "invest[s,1111] 0\n",
      "invest[s,] 30\n",
      "invest[b,1] 37.5\n",
      "invest[b,11] 0\n",
      "invest[b,111] 53.475\n",
      "invest[b,1111] 67.9133\n",
      "invest[b,] 0\n",
      "invest[mf,1] 0\n",
      "invest[mf,11] 0\n",
      "invest[mf,111] 0\n",
      "invest[mf,1111] 0\n",
      "invest[mf,] 0\n",
      "excess[11111] 0\n",
      "shortage[11111] 116.467\n",
      "Obj: -465.867\n"
     ]
    }
   ],
   "source": [
    "try:\n",
    "    \n",
    "    m.optimize()\n",
    "    \n",
    "    for v in m.getVars(): print('%s %g' % (v.VarName, v.X))\n",
    "\n",
    "    print('Obj: %g' % m.ObjVal)\n",
    "   \n",
    "    # print(\"invest s,1\", investments[0],decisionNodes[0])\n",
    "    \n",
    "except gp.GurobiError as e:\n",
    "    print('Error code ' + str(e.errno) + ': ' + str(e))\n",
    "except AttributeError:\n",
    "    print('Encountered an attribute error')"
   ]
  },
  {
   "cell_type": "code",
   "execution_count": null,
   "id": "83ce3507",
   "metadata": {},
   "outputs": [],
   "source": []
  },
  {
   "cell_type": "code",
   "execution_count": null,
   "id": "3328867f-3eea-4c11-bc5a-89419b829e1a",
   "metadata": {},
   "outputs": [],
   "source": []
  },
  {
   "cell_type": "code",
   "execution_count": null,
   "id": "5da38065",
   "metadata": {},
   "outputs": [],
   "source": []
  }
 ],
 "metadata": {
  "kernelspec": {
   "display_name": "Python 3 (ipykernel)",
   "language": "python",
   "name": "python3"
  },
  "language_info": {
   "codemirror_mode": {
    "name": "ipython",
    "version": 3
   },
   "file_extension": ".py",
   "mimetype": "text/x-python",
   "name": "python",
   "nbconvert_exporter": "python",
   "pygments_lexer": "ipython3",
   "version": "3.8.8"
  }
 },
 "nbformat": 4,
 "nbformat_minor": 5
}
